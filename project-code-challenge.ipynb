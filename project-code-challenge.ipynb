{
 "cells": [
  {
   "cell_type": "markdown",
   "metadata": {},
   "source": [
    "<img src=\"http://imgur.com/1ZcRyrc.png\" style=\"float: left; margin: 20px; height: 55px\">\n",
    "\n",
    "# Project 1: Python Coding Exercises\n",
    "\n",
    "_Authors: Joseph Nelson (DC) _\n",
    "\n",
    "---"
   ]
  },
  {
   "cell_type": "markdown",
   "metadata": {},
   "source": [
    "The following code challenges are drawn from common exercises used in technical interviews.\n",
    "\n",
    "Please note that there may be several ways to approach each challenge. If you get stuck, try mapping out your approach in pseudocode first. Finally, while solutions to problems like these may be found online, remember that if you copy/paste code that you can't explain, you'll be missing out on the point of the project. The only way to truly learn a new skill is through practice, trial, and error - we can only help you improve by understanding where you are having trouble."
   ]
  },
  {
   "cell_type": "markdown",
   "metadata": {},
   "source": [
    "### Challenge 1: Largest Palindrome\n",
    "A palindromic number reads the same both ways. For example, 1234321 is a palindrome. The largest palindrome made from the product of two two-digit numbers is 9009 = 91 × 99. Find the largest palindrome made from the product of two three-digit numbers. Afterward, write a brief explanation walking through your code's logic in markdown."
   ]
  },
  {
   "cell_type": "code",
   "execution_count": 1,
   "metadata": {},
   "outputs": [
    {
     "name": "stdout",
     "output_type": "stream",
     "text": [
      "99000099\n"
     ]
    }
   ],
   "source": [
    "palindrome_num = 0\n",
    "\n",
    "#iterate the number reversed first then from beginning\n",
    "for a in range(9999, 100, -1):\n",
    "    for b in range(a, 100, -1):\n",
    "        num = a * b\n",
    "        if num > palindrome_num:\n",
    "            s = str(a * b)\n",
    "            \n",
    "            #check if the number is mirrored\n",
    "            if s == s[::-1]:\n",
    "                palindrome_num = a * b\n",
    "                \n",
    "print(palindrome_num)"
   ]
  },
  {
   "cell_type": "markdown",
   "metadata": {},
   "source": [
    "\n",
    "### Challenge 2: Summation of Primes\n",
    "The sum of the primes below 10 is 2 + 3 + 5 + 7 = 17. Find the sum of all the primes below 2,000. Afterward, write a brief explanation walking through your code's logic in markdown."
   ]
  },
  {
   "cell_type": "code",
   "execution_count": 21,
   "metadata": {},
   "outputs": [
    {
     "name": "stdout",
     "output_type": "stream",
     "text": [
      "Sum of prime numbers below 2000:  363436487\n"
     ]
    }
   ],
   "source": [
    "total = 0\n",
    "\n",
    "#iterate number between 1 and 2000\n",
    "for num in range(1,2000):\n",
    "    \n",
    "    #to count prime numbers\n",
    "    count = 0\n",
    "    \n",
    "    #iterate numbers from 2 untill 1999\n",
    "    for a in range(2, num):\n",
    "        \n",
    "        #check if the number can divide by itself then count it\n",
    "        if(num%a==0):\n",
    "            count += 1\n",
    "            break\n",
    "        \n",
    "        #sum up all the prime numbers \n",
    "        if(count==0 and num != 1):\n",
    "            total += num\n",
    "\n",
    "print('Sum of prime numbers below 2000: ', total)"
   ]
  },
  {
   "cell_type": "markdown",
   "metadata": {},
   "source": [
    "### Challenge 3: Multiples of 3 and 5\n",
    "If we list all of the natural numbers below 10 that are multiples of 3 or 5, we get 3, 5, 6, and 9. The sum of these multiples is 23. Find the sum of all the multiples of 3 and 5 below 1,000. Afterward, write a brief explanation walking through your code's logic in markdown."
   ]
  },
  {
   "cell_type": "code",
   "execution_count": 4,
   "metadata": {},
   "outputs": [
    {
     "name": "stdout",
     "output_type": "stream",
     "text": [
      "233168\n"
     ]
    }
   ],
   "source": [
    "#declare a variable to put the result\n",
    "total = 0\n",
    "\n",
    "#iterate the numbers below 1000\n",
    "for a in range(1,1000):\n",
    "    \n",
    "    #check if the numbers divisible by 3 and 5\n",
    "    if (a%3==0 or a%5==0):\n",
    "        \n",
    "        #then sum up all the numbers\n",
    "        total += a\n",
    "\n",
    "#print the total of all numbers\n",
    "print(total) "
   ]
  },
  {
   "cell_type": "markdown",
   "metadata": {},
   "source": [
    "### Challenge 4: String Compressor\n",
    "Implement a method to perform basic string compression using the counts of repeated characters. (This is called run-length encoding.) For example, the string \"aabcccccaaa\" would become a2b1c5a3. If the “compressed” string would not become smaller than the original string, your method should return the original string. You can assume the string has only uppercase and lowercase letters (a–z). Specify whether your solution is case sensitive or case insensitive and what you would need to change to make it the other. Afterward, write a brief explanation walking through your code's logic in markdown."
   ]
  },
  {
   "cell_type": "code",
   "execution_count": 28,
   "metadata": {},
   "outputs": [
    {
     "name": "stdout",
     "output_type": "stream",
     "text": [
      "a2bc5a3\n"
     ]
    }
   ],
   "source": [
    "def compress(data):\n",
    "    index=0\n",
    "    compressed = \"\"\n",
    "    \n",
    "    #get the length of word\n",
    "    len_str = len(data)\n",
    "    \n",
    "    #iterate while the index is not equal to the word's length\n",
    "    while index != len_str:\n",
    "        count = 1\n",
    "        while(index < len_str-1) and (data[index] == data[index+1]):\n",
    "            \n",
    "            #count the repeated letter\n",
    "            count += 1\n",
    "            index += 1\n",
    "            \n",
    "        #if the letter is only one the return the letter but if is more than one return the number    \n",
    "        if count == 1:\n",
    "            compressed += str(data[index])\n",
    "        else:\n",
    "            compressed += str(data[index]) + str(count)\n",
    "        index += 1\n",
    "    return compressed\n",
    "\n",
    "data = \"aabcccccaaa\"\n",
    "print(compress(data))"
   ]
  },
  {
   "cell_type": "markdown",
   "metadata": {},
   "source": [
    "### *BONUS* Challenge: FizzBuzz\n",
    "Write a program that prints all of the numbers from 1 to 100. For multiples of 3, instead of the number, print \"Fizz;\" for multiples of 5, print \"Buzz.\" For numbers that are multiples of both 3 and 5, print \"FizzBuzz.\" Afterward, write a brief explanation walking through your code's logic in markdown."
   ]
  },
  {
   "cell_type": "code",
   "execution_count": 2,
   "metadata": {},
   "outputs": [
    {
     "name": "stdout",
     "output_type": "stream",
     "text": [
      "1\n",
      "2\n",
      "Fizz\n",
      "4\n",
      "Buzz\n",
      "Fizz\n",
      "7\n",
      "8\n",
      "Fizz\n",
      "Buzz\n",
      "11\n",
      "Fizz\n",
      "13\n",
      "14\n",
      "FizzBuzz\n",
      "16\n",
      "17\n",
      "Fizz\n",
      "19\n",
      "Buzz\n",
      "Fizz\n",
      "22\n",
      "23\n",
      "Fizz\n",
      "Buzz\n",
      "26\n",
      "Fizz\n",
      "28\n",
      "29\n",
      "FizzBuzz\n",
      "31\n",
      "32\n",
      "Fizz\n",
      "34\n",
      "Buzz\n",
      "Fizz\n",
      "37\n",
      "38\n",
      "Fizz\n",
      "Buzz\n",
      "41\n",
      "Fizz\n",
      "43\n",
      "44\n",
      "FizzBuzz\n",
      "46\n",
      "47\n",
      "Fizz\n",
      "49\n",
      "Buzz\n",
      "Fizz\n",
      "52\n",
      "53\n",
      "Fizz\n",
      "Buzz\n",
      "56\n",
      "Fizz\n",
      "58\n",
      "59\n",
      "FizzBuzz\n",
      "61\n",
      "62\n",
      "Fizz\n",
      "64\n",
      "Buzz\n",
      "Fizz\n",
      "67\n",
      "68\n",
      "Fizz\n",
      "Buzz\n",
      "71\n",
      "Fizz\n",
      "73\n",
      "74\n",
      "FizzBuzz\n",
      "76\n",
      "77\n",
      "Fizz\n",
      "79\n",
      "Buzz\n",
      "Fizz\n",
      "82\n",
      "83\n",
      "Fizz\n",
      "Buzz\n",
      "86\n",
      "Fizz\n",
      "88\n",
      "89\n",
      "FizzBuzz\n",
      "91\n",
      "92\n",
      "Fizz\n",
      "94\n",
      "Buzz\n",
      "Fizz\n",
      "97\n",
      "98\n",
      "Fizz\n",
      "Buzz\n"
     ]
    }
   ],
   "source": [
    "#iterate numbers from 1 to 100 in a\n",
    "for a in range(1,101):\n",
    "    \n",
    "    #check if a can be divided by 3 and 5 it will print FizzBuzz\n",
    "    if a%3==0 and a%5==0:\n",
    "        print('FizzBuzz')\n",
    "    \n",
    "    #check if a can be divided by 5 it will print Buzz\n",
    "    elif a%5==0:\n",
    "        print('Buzz')\n",
    "        \n",
    "    #check if a can be divided by 3 it will print Fizz\n",
    "    elif a%3==0:\n",
    "        print('Fizz')\n",
    "        \n",
    "    #other than that it will just print the number\n",
    "    else:\n",
    "        print(a)"
   ]
  },
  {
   "cell_type": "code",
   "execution_count": null,
   "metadata": {},
   "outputs": [],
   "source": []
  }
 ],
 "metadata": {
  "anaconda-cloud": {},
  "kernelspec": {
   "display_name": "Python 3",
   "language": "python",
   "name": "python3"
  },
  "language_info": {
   "codemirror_mode": {
    "name": "ipython",
    "version": 3
   },
   "file_extension": ".py",
   "mimetype": "text/x-python",
   "name": "python",
   "nbconvert_exporter": "python",
   "pygments_lexer": "ipython3",
   "version": "3.8.8"
  }
 },
 "nbformat": 4,
 "nbformat_minor": 2
}
